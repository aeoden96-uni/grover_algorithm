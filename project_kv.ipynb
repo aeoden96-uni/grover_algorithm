{
 "cells": [
  {
   "cell_type": "markdown",
   "metadata": {},
   "source": [
    "### 1.Quantum approach: trivial example"
   ]
  },
  {
   "cell_type": "code",
   "execution_count": 3,
   "metadata": {},
   "outputs": [],
   "source": [
    "from qiskit import * \n",
    "import matplotlib.pyplot as plt\n",
    "import numpy as np\n",
    "\n",
    "from qiskit import BasicAer\n",
    "from qiskit.tools.visualization import plot_histogram\n",
    "from qiskit.aqua import QuantumInstance\n",
    "from qiskit.aqua.algorithms import Grover\n",
    "from qiskit.aqua.components.oracles import LogicalExpressionOracle, TruthTableOracle"
   ]
  },
  {
   "cell_type": "markdown",
   "metadata": {},
   "source": [
    "### 1.1 Creating oracle  (\"oracle\" object)\n",
    "Control-Z gate REPRESENTS (acts as our) Oracle:\n",
    "    $f(x)=\\begin{cases}-11 \\text{, x=}11\\\\ x   \\text{       ,else}\\end{cases}$\n",
    "    \n",
    "In this example state 11 is a \"winning state\",we defined the oracle this way.\n",
    "\n",
    "What is the goal?\n",
    "With minimal calls of f (oracle) ,find the \"winning\" vector.\n",
    "    "
   ]
  },
  {
   "cell_type": "code",
   "execution_count": 4,
   "metadata": {},
   "outputs": [
    {
     "data": {
      "text/html": [
       "<pre style=\"word-wrap: normal;white-space: pre;background: #fff0;line-height: 1.1;font-family: &quot;Courier New&quot;,Courier,monospace\">        \n",
       "q_0: ─■─\n",
       "      │ \n",
       "q_1: ─■─\n",
       "        </pre>"
      ],
      "text/plain": [
       "        \n",
       "q_0: ─■─\n",
       "      │ \n",
       "q_1: ─■─\n",
       "        "
      ]
     },
     "execution_count": 4,
     "metadata": {},
     "output_type": "execute_result"
    }
   ],
   "source": [
    "oracle = QuantumCircuit(2,name='oracle')\n",
    "oracle.cz(0,1)\n",
    "oracle.to_gate()\n",
    "oracle.draw()"
   ]
  },
  {
   "cell_type": "markdown",
   "metadata": {},
   "source": [
    "### 1.2 Testing oracle\n",
    "Creating \"grover_circ\" object and appending oracle obj to it"
   ]
  },
  {
   "cell_type": "code",
   "execution_count": 5,
   "metadata": {},
   "outputs": [
    {
     "data": {
      "text/html": [
       "<pre style=\"word-wrap: normal;white-space: pre;background: #fff0;line-height: 1.1;font-family: &quot;Courier New&quot;,Courier,monospace\">     ┌───┐┌─────────┐\n",
       "q_0: ┤ H ├┤0        ├\n",
       "     ├───┤│  oracle │\n",
       "q_1: ┤ H ├┤1        ├\n",
       "     └───┘└─────────┘\n",
       "c: 2/════════════════\n",
       "                     </pre>"
      ],
      "text/plain": [
       "     ┌───┐┌─────────┐\n",
       "q_0: ┤ H ├┤0        ├\n",
       "     ├───┤│  oracle │\n",
       "q_1: ┤ H ├┤1        ├\n",
       "     └───┘└─────────┘\n",
       "c: 2/════════════════\n",
       "                     "
      ]
     },
     "execution_count": 5,
     "metadata": {},
     "output_type": "execute_result"
    }
   ],
   "source": [
    "grover_circ=QuantumCircuit(2,2) #2qub, 2 clasical registers\n",
    "grover_circ.h([0,1]) #adds Had gate to BOTH qub\n",
    "grover_circ.append(oracle,[0,1])\n",
    "grover_circ.draw()"
   ]
  },
  {
   "cell_type": "markdown",
   "metadata": {},
   "source": [
    "### 1.3 (check-step) Initialise the simulator , execute test run and save result "
   ]
  },
  {
   "cell_type": "code",
   "execution_count": 6,
   "metadata": {},
   "outputs": [],
   "source": [
    "backend=Aer.get_backend('statevector_simulator')\n",
    "\n",
    "job=execute(grover_circ,backend)\n",
    "\n",
    "result = job.result()"
   ]
  },
  {
   "cell_type": "markdown",
   "metadata": {},
   "source": [
    "### 1.4 (check-step) Display result of the result vector of \"grover_circ\" circuit\n",
    "    We prepared the superposition state and got the SAME\n",
    "    state with 11 flipped.\n",
    "    \n",
    "    We NEED to square the state vector\n",
    "    to get probabilities of measuring that state."
   ]
  },
  {
   "cell_type": "code",
   "execution_count": 7,
   "metadata": {
    "scrolled": true
   },
   "outputs": [
    {
     "data": {
      "text/plain": [
       "array([ 0.5+0.j,  0.5+0.j,  0.5+0.j, -0.5+0.j])"
      ]
     },
     "execution_count": 7,
     "metadata": {},
     "output_type": "execute_result"
    }
   ],
   "source": [
    "sv= result.get_statevector()\n",
    "np.round(sv,2)"
   ]
  },
  {
   "cell_type": "markdown",
   "metadata": {},
   "source": [
    "## 1.5 Creating Reflection operator   \n",
    "    We still need the refection operator.\n",
    "    \n",
    "    Goal is to amplify probability of the winning state\n",
    "    AND reduce other probabilities.\n",
    "\n",
    "    WE APPLY Oracle operator to input state.\n",
    "    Oracle FLIPPS sign of the state.\n",
    "    THIS GEOMERTICALY MEANS: we are reflecting original input\n",
    "    around vector orhogonal to winning state.\n",
    "    \n",
    "    NEXT,applying REFL operator on THAT NEW STATE:\n",
    "    this flipps it ALMOST NEAR |w> ,the winning state.\n",
    "\n",
    "    For N=4 we just need one iter.of this 2 operators\n",
    "    for N >> 4 num of iterations will scale as sqrt(N)."
   ]
  },
  {
   "cell_type": "code",
   "execution_count": 8,
   "metadata": {},
   "outputs": [
    {
     "data": {
      "text/html": [
       "<pre style=\"word-wrap: normal;white-space: pre;background: #fff0;line-height: 1.1;font-family: &quot;Courier New&quot;,Courier,monospace\">     ┌───┐┌───┐   ┌───┐\n",
       "q_0: ┤ H ├┤ Z ├─■─┤ H ├\n",
       "     ├───┤├───┤ │ ├───┤\n",
       "q_1: ┤ H ├┤ Z ├─■─┤ H ├\n",
       "     └───┘└───┘   └───┘</pre>"
      ],
      "text/plain": [
       "     ┌───┐┌───┐   ┌───┐\n",
       "q_0: ┤ H ├┤ Z ├─■─┤ H ├\n",
       "     ├───┤├───┤ │ ├───┤\n",
       "q_1: ┤ H ├┤ Z ├─■─┤ H ├\n",
       "     └───┘└───┘   └───┘"
      ]
     },
     "execution_count": 8,
     "metadata": {},
     "output_type": "execute_result"
    }
   ],
   "source": [
    "reflection= QuantumCircuit(2,name='reflection')\n",
    "\n",
    "reflection.h([0,1]) #to 00 from s state\n",
    "reflection.z([0,1])\n",
    "reflection.cz(0,1)  #will apply neg.phase only to 00\n",
    "reflection.h([0,1])\n",
    "\n",
    "reflection.to_gate()\n",
    "reflection.draw()"
   ]
  },
  {
   "cell_type": "markdown",
   "metadata": {},
   "source": [
    "### 1.6 Putting it all together"
   ]
  },
  {
   "cell_type": "code",
   "execution_count": 9,
   "metadata": {},
   "outputs": [
    {
     "data": {
      "text/plain": [
       "<qiskit.circuit.instructionset.InstructionSet at 0x1987cfb6bb0>"
      ]
     },
     "execution_count": 9,
     "metadata": {},
     "output_type": "execute_result"
    }
   ],
   "source": [
    "backend= Aer.get_backend('qasm_simulator')\n",
    "\n",
    "grover_circ=QuantumCircuit(2,2)\n",
    "grover_circ.h([0,1])\n",
    "\n",
    "grover_circ.append(oracle,[0,1])\n",
    "grover_circ.append(reflection,[0,1])\n",
    "\n",
    "grover_circ.measure([0,1],[0,1])"
   ]
  },
  {
   "cell_type": "code",
   "execution_count": 10,
   "metadata": {},
   "outputs": [
    {
     "data": {
      "text/html": [
       "<pre style=\"word-wrap: normal;white-space: pre;background: #fff0;line-height: 1.1;font-family: &quot;Courier New&quot;,Courier,monospace\">     ┌───┐┌─────────┐┌─────────────┐┌─┐   \n",
       "q_0: ┤ H ├┤0        ├┤0            ├┤M├───\n",
       "     ├───┤│  oracle ││  reflection │└╥┘┌─┐\n",
       "q_1: ┤ H ├┤1        ├┤1            ├─╫─┤M├\n",
       "     └───┘└─────────┘└─────────────┘ ║ └╥┘\n",
       "c: 2/════════════════════════════════╩══╩═\n",
       "                                     0  1 </pre>"
      ],
      "text/plain": [
       "     ┌───┐┌─────────┐┌─────────────┐┌─┐   \n",
       "q_0: ┤ H ├┤0        ├┤0            ├┤M├───\n",
       "     ├───┤│  oracle ││  reflection │└╥┘┌─┐\n",
       "q_1: ┤ H ├┤1        ├┤1            ├─╫─┤M├\n",
       "     └───┘└─────────┘└─────────────┘ ║ └╥┘\n",
       "c: 2/════════════════════════════════╩══╩═\n",
       "                                     0  1 "
      ]
     },
     "execution_count": 10,
     "metadata": {},
     "output_type": "execute_result"
    }
   ],
   "source": [
    "grover_circ.draw()\n",
    "#1.our superpos.state\n",
    "#2.oracle\n",
    "#3.refl operator\n",
    "#4.we want at the end state=11"
   ]
  },
  {
   "cell_type": "markdown",
   "metadata": {},
   "source": [
    "## 1.7 Result\n",
    "    Result gave us '11' with '1' call of the oracle."
   ]
  },
  {
   "cell_type": "code",
   "execution_count": 14,
   "metadata": {},
   "outputs": [
    {
     "data": {
      "image/png": "[encoded data removed]",
      "text/plain": [
       "<Figure size 504x360 with 1 Axes>"
      ]
     },
     "execution_count": 14,
     "metadata": {},
     "output_type": "execute_result"
    }
   ],
   "source": [
    "job=execute(grover_circ,backend,shots=1)\n",
    "result=job.result()\n",
    "result.get_counts()\n",
    "\n",
    "plot_histogram(job.result().get_counts())"
   ]
  },
  {
   "cell_type": "markdown",
   "metadata": {},
   "source": [
    "## 2.0 Example: Logic expression solver (Qiskit implementation)\n",
    "\n",
    "Small example how Quiskit did a solver, and later I'll try to do simple implementation of it."
   ]
  },
  {
   "cell_type": "code",
   "execution_count": 4,
   "metadata": {},
   "outputs": [
    {
     "data": {
      "image/png": "[encoded data removed]",
      "text/plain": [
       "<Figure size 504x360 with 1 Axes>"
      ]
     },
     "execution_count": 4,
     "metadata": {},
     "output_type": "execute_result"
    }
   ],
   "source": [
    "expression = '(w ^ x) & ~(y ^ z) & (x & y & z)'\n",
    "oracle = LogicalExpressionOracle(expression)\n",
    "grover = Grover(oracle)\n",
    "result = grover.run(QuantumInstance(BasicAer.get_backend('qasm_simulator'), shots=1024))\n",
    "plot_histogram(result.measurement)"
   ]
  },
  {
   "cell_type": "markdown",
   "metadata": {},
   "source": [
    "## 3.0 Example: Disjunctive normal form solver \n",
    "\n",
    "\n",
    "    Input for our program is variable logic.\n",
    "\n",
    "    It represents a logic expression:\n",
    "\n",
    "    If for example we want to evaluate  A V B ,\n",
    "    logic for that would be logic= [[0,0]]       (0 represents there are no negations in front of A ,or B)\n",
    "    \n",
    "    For (A V B) && (¬A V ¬B) , logic would be [[0,0],[1,1]]\n",
    "    \n",
    "    For A  logic is [0,-1]  (-1 represents that B is absent)\n",
    "    \n",
    "    \n",
    "    I didn't implement this automatization fully, but wanted logic can be inserted to this oracle without using said function and variable logic.\n",
    "    \n",
    "    "
   ]
  },
  {
   "cell_type": "code",
   "execution_count": 343,
   "metadata": {},
   "outputs": [],
   "source": [
    "#logic for a given logical expression\n",
    "logic= [[-1,0]]      #A OR  B\n"
   ]
  },
  {
   "cell_type": "code",
   "execution_count": 344,
   "metadata": {},
   "outputs": [],
   "source": [
    "# Function adds to CIRC a representation of OR between 2 qubits, \n",
    "#x and y ,and writes X V Y to qubit r , neg variable \n",
    "#represents negation of x or y\n",
    "\n",
    "def addOR(circ,x,y,r,neg=(0,0)):\n",
    "    if neg[0] == 1:\n",
    "        circ.x(x)\n",
    "    if neg[1]== 1:\n",
    "        circ.x(y)\n",
    "        \n",
    "    circ.x([x,y])\n",
    "    circ.ccx(x,y,r)\n",
    "    circ.x([x,y,r])\n",
    "    \n",
    "    if neg[0] == 1:\n",
    "        circ.x(x)\n",
    "    if neg[1]== 1:\n",
    "        circ.x(y)\n",
    "        \n",
    "    return circ"
   ]
  },
  {
   "cell_type": "code",
   "execution_count": 345,
   "metadata": {},
   "outputs": [],
   "source": [
    "#NUM OF QUBITS IS DEDUCTED  FROM THE SIZE OF THE LOG.EX.\n",
    "numOfQubits=3\n",
    "if len(logic)>1:\n",
    "    numOfQubits=len(logic)+3\n",
    "\n",
    "\n",
    "def oracleCreator(logic,numOfQubits): \n",
    "    \n",
    "    \n",
    "        \n",
    "        \n",
    "    o=QuantumCircuit(numOfQubits, name=\"oracle\")    \n",
    "        \n",
    "    #ADDING UP ALL DISJUNCTIVE ELEMENTS OF logic variable\n",
    "    outputQ=2\n",
    "    for l in logic:\n",
    "        if l[0]==-1:            #Checks if first variable is absent\n",
    "            if l[1]==1:\n",
    "                o.x(1)\n",
    "            o.cx(1,outputQ)   \n",
    "            outputQ +=1\n",
    "            continue\n",
    "        if l[1]==-1:           #Checks if second variable is absent\n",
    "            if l[0]==1:        \n",
    "                o.x(0)\n",
    "            o.cx(0,outputQ)    \n",
    "            outputQ +=1\n",
    "            continue\n",
    "\n",
    "        o=addOR(o,0,1,outputQ,l)   # A V B   \n",
    "        outputQ +=1\n",
    "\n",
    "\n",
    "\n",
    "    #ADS UP EVERY OUTPUT FROM DISJUNCTIVE ELEMENTS \n",
    "    if numOfQubits == 5:   \n",
    "        o.ccx(2,3,4)            \n",
    "        o.z(4)\n",
    "    else:\n",
    "        o.z(2)\n",
    "\n",
    "\n",
    "\n",
    "    #REVERSING THE GATE AFTER TRIGGERING Z GATE\n",
    "    ###########################################\n",
    "    \n",
    "    if numOfQubits == 5:   \n",
    "        o.ccx(2,3,4)    \n",
    "\n",
    "    outputQ=2\n",
    "    for l in reversed(logic):\n",
    "        if l[0]==-1:            #Checks if first variable is absent\n",
    "            if l[1]==1:\n",
    "                o.x(1)\n",
    "            o.cx(1,outputQ)   \n",
    "            outputQ +=1\n",
    "            continue\n",
    "        if l[1]==-1:           #Checks if second variable is absent\n",
    "            if l[0]==1:        \n",
    "                o.x(0)\n",
    "            o.cx(0,outputQ)    \n",
    "            outputQ +=1\n",
    "            continue\n",
    "\n",
    "        o=addOR(o,0,1,outputQ,l)   # A V B   \n",
    "        outputQ +=1\n",
    "\n",
    "\n",
    "    o.to_gate()\n",
    "    return o\n",
    "\n",
    "\n",
    "o=oracleCreator(logic,numOfQubits)\n",
    "\n"
   ]
  },
  {
   "cell_type": "code",
   "execution_count": 346,
   "metadata": {},
   "outputs": [
    {
     "data": {
      "text/html": [
       "<pre style=\"word-wrap: normal;white-space: pre;background: #fff0;line-height: 1.1;font-family: &quot;Courier New&quot;,Courier,monospace\">                    \n",
       "q_0: ───────────────\n",
       "                    \n",
       "q_1: ──■─────────■──\n",
       "     ┌─┴─┐┌───┐┌─┴─┐\n",
       "q_2: ┤ X ├┤ Z ├┤ X ├\n",
       "     └───┘└───┘└───┘</pre>"
      ],
      "text/plain": [
       "                    \n",
       "q_0: ───────────────\n",
       "                    \n",
       "q_1: ──■─────────■──\n",
       "     ┌─┴─┐┌───┐┌─┴─┐\n",
       "q_2: ┤ X ├┤ Z ├┤ X ├\n",
       "     └───┘└───┘└───┘"
      ]
     },
     "execution_count": 346,
     "metadata": {},
     "output_type": "execute_result"
    }
   ],
   "source": [
    "o.draw()"
   ]
  },
  {
   "cell_type": "markdown",
   "metadata": {},
   "source": [
    "### 3.1 Diffuser: Qiskit implementation for n qubits"
   ]
  },
  {
   "cell_type": "code",
   "execution_count": 347,
   "metadata": {},
   "outputs": [],
   "source": [
    "def diffuser(nqubits):\n",
    "    qc = QuantumCircuit(nqubits)\n",
    "    # Apply transformation |s> -> |00..0> (H-gates)\n",
    "    for qubit in range(nqubits):\n",
    "        qc.h(qubit)\n",
    "    # Apply transformation |00..0> -> |11..1> (X-gates)\n",
    "    for qubit in range(nqubits):\n",
    "        qc.x(qubit)\n",
    "    # Do multi-controlled-Z gate\n",
    "    qc.h(nqubits-1)\n",
    "    qc.mct(list(range(nqubits-1)), nqubits-1)  # multi-controlled-toffoli\n",
    "    qc.h(nqubits-1)\n",
    "    # Apply transformation |11..1> -> |00..0>\n",
    "    for qubit in range(nqubits):\n",
    "        qc.x(qubit)\n",
    "    # Apply transformation |00..0> -> |s>\n",
    "    for qubit in range(nqubits):\n",
    "        qc.h(qubit)\n",
    "    # We will return the diffuser as a gate\n",
    "    U_s = qc.to_gate()\n",
    "    U_s.name = \"U$_s$\"\n",
    "    return U_s"
   ]
  },
  {
   "cell_type": "markdown",
   "metadata": {},
   "source": [
    "### 3.3 Finishing the code\n",
    "\n",
    "Addeed H gate to the input , then just oracle and reflection circuit need to be appended."
   ]
  },
  {
   "cell_type": "code",
   "execution_count": 355,
   "metadata": {},
   "outputs": [
    {
     "data": {
      "text/plain": [
       "<qiskit.circuit.instructionset.InstructionSet at 0x21261f3ba60>"
      ]
     },
     "execution_count": 355,
     "metadata": {},
     "output_type": "execute_result"
    }
   ],
   "source": [
    "\n",
    "if numOfQubits==3:\n",
    "    out=[0,1,2]\n",
    "if numOfQubits==5:\n",
    "    out=[0,1,2,3,4] \n",
    "\n",
    "grover_circ=QuantumCircuit(numOfQubits,2)\n",
    "grover_circ.h([0,1])\n",
    "\n",
    "grover_circ.append(o,out)\n",
    "grover_circ.append(diffuser(2),[0,1])\n",
    "\n",
    "#grover_circ.append(o,out)\n",
    "#grover_circ.append(diffuser(2),[0,1])\n",
    "\n",
    "grover_circ.measure([0,1],[0,1])\n",
    "    \n"
   ]
  },
  {
   "cell_type": "markdown",
   "metadata": {},
   "source": [
    "### 3.4 Simulating the code"
   ]
  },
  {
   "cell_type": "code",
   "execution_count": 356,
   "metadata": {},
   "outputs": [
    {
     "data": {
      "text/plain": [
       "{'00': 261, '01': 270, '10': 246, '11': 247}"
      ]
     },
     "execution_count": 356,
     "metadata": {},
     "output_type": "execute_result"
    }
   ],
   "source": [
    "backend= Aer.get_backend('qasm_simulator')\n",
    "\n",
    "job=execute(grover_circ,backend)\n",
    "result=job.result()\n",
    "result.get_counts()\n"
   ]
  },
  {
   "cell_type": "markdown",
   "metadata": {},
   "source": [
    "### 3.5 Showing output on histogram"
   ]
  },
  {
   "cell_type": "code",
   "execution_count": 357,
   "metadata": {
    "scrolled": true
   },
   "outputs": [
    {
     "data": {
      "image/png": "[encoded data removed]",
      "text/plain": [
       "<Figure size 504x360 with 1 Axes>"
      ]
     },
     "execution_count": 357,
     "metadata": {},
     "output_type": "execute_result"
    }
   ],
   "source": [
    "backend = BasicAer.get_backend('qasm_simulator')\n",
    "job = execute(grover_circ, backend)\n",
    "plot_histogram(job.result().get_counts(), color='midnightblue')"
   ]
  },
  {
   "cell_type": "code",
   "execution_count": 358,
   "metadata": {},
   "outputs": [
    {
     "data": {
      "text/html": [
       "<pre style=\"word-wrap: normal;white-space: pre;background: #fff0;line-height: 1.1;font-family: &quot;Courier New&quot;,Courier,monospace\">     ┌───┐┌─────────┐┌────────┐┌─┐   \n",
       "q_0: ┤ H ├┤0        ├┤0       ├┤M├───\n",
       "     ├───┤│         ││  U$_s$ │└╥┘┌─┐\n",
       "q_1: ┤ H ├┤1 oracle ├┤1       ├─╫─┤M├\n",
       "     └───┘│         │└────────┘ ║ └╥┘\n",
       "q_2: ─────┤2        ├───────────╫──╫─\n",
       "          └─────────┘           ║  ║ \n",
       "c: 2/═══════════════════════════╩══╩═\n",
       "                                0  1 </pre>"
      ],
      "text/plain": [
       "     ┌───┐┌─────────┐┌────────┐┌─┐   \n",
       "q_0: ┤ H ├┤0        ├┤0       ├┤M├───\n",
       "     ├───┤│         ││  U$_s$ │└╥┘┌─┐\n",
       "q_1: ┤ H ├┤1 oracle ├┤1       ├─╫─┤M├\n",
       "     └───┘│         │└────────┘ ║ └╥┘\n",
       "q_2: ─────┤2        ├───────────╫──╫─\n",
       "          └─────────┘           ║  ║ \n",
       "c: 2/═══════════════════════════╩══╩═\n",
       "                                0  1 "
      ]
     },
     "execution_count": 358,
     "metadata": {},
     "output_type": "execute_result"
    }
   ],
   "source": [
    "grover_circ.draw()"
   ]
  },
  {
   "cell_type": "code",
   "execution_count": null,
   "metadata": {},
   "outputs": [],
   "source": []
  },
  {
   "cell_type": "code",
   "execution_count": null,
   "metadata": {},
   "outputs": [],
   "source": []
  }
 ],
 "metadata": {
  "kernelspec": {
   "display_name": "Python 3",
   "language": "python",
   "name": "python3"
  },
  "language_info": {
   "codemirror_mode": {
    "name": "ipython",
    "version": 3
   },
   "file_extension": ".py",
   "mimetype": "text/x-python",
   "name": "python",
   "nbconvert_exporter": "python",
   "pygments_lexer": "ipython3",
   "version": "3.8.6"
  }
 },
 "nbformat": 4,
 "nbformat_minor": 4
}
